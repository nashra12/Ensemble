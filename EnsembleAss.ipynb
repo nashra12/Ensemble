{
 "cells": [
  {
   "cell_type": "markdown",
   "id": "27ec2e6a-a137-4c66-b3eb-5b5b969223a6",
   "metadata": {},
   "source": [
    "Q1. What is an ensemble technique in machine learning?\n",
    "Ans=> In Ensemble technique basically we used multiple models for better accuracy,\n",
    "Combining multiple models and get better accuracy"
   ]
  },
  {
   "cell_type": "markdown",
   "id": "125e1bc2-373d-46b8-a8c6-e78d9a63d5c9",
   "metadata": {},
   "source": [
    "Q2. Why are ensemble techniques used in machine learning?\n",
    "Ans=>To reduce overfitting ,to reduce variance and bias."
   ]
  },
  {
   "cell_type": "markdown",
   "id": "1c7f00b0-dc8b-4513-9047-11a2d928fd21",
   "metadata": {},
   "source": [
    "Q3. What is bagging?\n",
    "Ans=>Supose we are having a dataset and lets say m1,m2,m3...mn are models where models can be repeated called base learners suppose m1 model gives 1 as output,m2 gives 0 as output,m3 gives 1 as output.. and so on and maximum occurance is 0 then output will be 0,but in the case of regression ans will be average."
   ]
  },
  {
   "cell_type": "markdown",
   "id": "451e7644-29d1-4bec-ad7e-1cde5a53b7b5",
   "metadata": {},
   "source": [
    "Q5. What are the benefits of using ensemble techniques?\n",
    "Ans-easy to implement and can achieve higher classification and recognition performance compared to single models."
   ]
  },
  {
   "cell_type": "markdown",
   "id": "3f6da23a-4da0-4fc8-8e60-9d24022bc975",
   "metadata": {},
   "source": [
    "Q6. Are ensemble techniques always better than individual models?\n",
    "Ans-There is no absolute guarantee a ensemble model performs better than an individual model,"
   ]
  },
  {
   "cell_type": "code",
   "execution_count": null,
   "id": "e7090975-8574-4d86-8ae1-4d02feac7d00",
   "metadata": {},
   "outputs": [],
   "source": []
  }
 ],
 "metadata": {
  "kernelspec": {
   "display_name": "Python 3 (ipykernel)",
   "language": "python",
   "name": "python3"
  },
  "language_info": {
   "codemirror_mode": {
    "name": "ipython",
    "version": 3
   },
   "file_extension": ".py",
   "mimetype": "text/x-python",
   "name": "python",
   "nbconvert_exporter": "python",
   "pygments_lexer": "ipython3",
   "version": "3.10.8"
  }
 },
 "nbformat": 4,
 "nbformat_minor": 5
}
